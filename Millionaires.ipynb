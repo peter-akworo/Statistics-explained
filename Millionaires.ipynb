{
 "cells": [
  {
   "cell_type": "code",
   "execution_count": 1,
   "metadata": {},
   "outputs": [],
   "source": [
    "import pandas as pd"
   ]
  },
  {
   "cell_type": "code",
   "execution_count": 2,
   "metadata": {},
   "outputs": [],
   "source": [
    "df = pd.read_excel(\"C:\\\\Users\\\\ME\\\\Desktop\\\\Stattuts\\\\rawdata\\\\millionairedataset.xlsx\")"
   ]
  },
  {
   "cell_type": "code",
   "execution_count": 3,
   "metadata": {},
   "outputs": [
    {
     "name": "stdout",
     "output_type": "stream",
     "text": [
      "     Couple  Educ Level  Salary  Cars  Home  Savings  SC Index\n",
      "0         1           4      90    19    83      289         3\n",
      "1         2           2      95    35   134     1130         3\n",
      "2         3           2      99    46   110      583         5\n",
      "3         4           3     130    24    69     1049         7\n",
      "4         5           4     126    42   153      612         7\n",
      "5         6           2      73    35   127      650         2\n",
      "6         7           3     111    34    98      675         7\n",
      "7         8           4     140    53   191      347         9\n",
      "8         9           2      52    33   119      420         2\n",
      "9        10           2      99    50   147       39         6\n",
      "10       11           4     101    40   132        5         3\n",
      "11       12           3     134    50   208      553        10\n",
      "12       13           2      62    36    91      659         1\n",
      "13       14           3     139    45   258      648         8\n",
      "14       15           4      84    21   221        5         4\n",
      "15       16           2      46    28   124      630         1\n",
      "16       17           4     104    40   184      698         2\n",
      "17       18           1      54    21    50     1247         1\n",
      "18       19           2      88    49   193      471         4\n",
      "19       20           3     119    57   265       81        10\n",
      "20       21           4     125    59   157        5         8\n",
      "21       22           2      87    40   177      507         6\n",
      "22       23           3      73    52   183        5         4\n",
      "23       24           4     114    46   150       55         4\n",
      "24       25           3     104    49   176      385         5\n",
      "25       26           2     112    53   183      815         7\n",
      "26       27           3     106    44   164      810         4\n",
      "27       28           3     103    42   127      572         4\n",
      "28       29           3     135    59   270      521        10\n",
      "29       30           4      96    40    66      166         3\n",
      "..      ...         ...     ...   ...   ...      ...       ...\n",
      "244     245           4     115    50   161      108         8\n",
      "245     246           1      70    39   139      844         4\n",
      "246     247           2     111    36   111      554         4\n",
      "247     248           4      98    36   178      227         6\n",
      "248     249           3      80    33    56      320         4\n",
      "249     250           1      25    18    50      823         1\n",
      "250     251           4     105    40   148      672         4\n",
      "251     252           2      86    39   178      444         5\n",
      "252     253           4     114    37   154      311         6\n",
      "253     254           3      90    21    50     1044         2\n",
      "254     255           1      70    33    91     1049         2\n",
      "255     256           4      81    25    76      439         2\n",
      "256     257           3     130    52   144      575         6\n",
      "257     258           4      91    40   136      302         2\n",
      "258     259           3     130    59   213      365        10\n",
      "259     260           3      83    30   121      529         2\n",
      "260     261           3     138    55   214      102         9\n",
      "261     262           4     138    40   144      437         6\n",
      "262     263           4     132    43   169      197         9\n",
      "263     264           1      69    21    73     1243         1\n",
      "264     265           3      89    46   238      244         8\n",
      "265     266           4      96    33   224      317         6\n",
      "266     267           3      62    27   171      550         2\n",
      "267     268           3     140    52   220      545        10\n",
      "268     269           2      66    37   100      645         1\n",
      "269     270           2     103    53   206      288         9\n",
      "270     271           4     119    36   168      758         4\n",
      "271     272           4     123    36   153      426         5\n",
      "272     273           4     106    41   191        5         6\n",
      "273     274           2      59    23    50     1205         1\n",
      "\n",
      "[274 rows x 7 columns]\n"
     ]
    }
   ],
   "source": [
    "print(df)"
   ]
  },
  {
   "cell_type": "code",
   "execution_count": 4,
   "metadata": {},
   "outputs": [
    {
     "data": {
      "text/html": [
       "<div>\n",
       "<style scoped>\n",
       "    .dataframe tbody tr th:only-of-type {\n",
       "        vertical-align: middle;\n",
       "    }\n",
       "\n",
       "    .dataframe tbody tr th {\n",
       "        vertical-align: top;\n",
       "    }\n",
       "\n",
       "    .dataframe thead th {\n",
       "        text-align: right;\n",
       "    }\n",
       "</style>\n",
       "<table border=\"1\" class=\"dataframe\">\n",
       "  <thead>\n",
       "    <tr style=\"text-align: right;\">\n",
       "      <th></th>\n",
       "      <th>Couple</th>\n",
       "      <th>Educ Level</th>\n",
       "      <th>Salary</th>\n",
       "      <th>Cars</th>\n",
       "      <th>Home</th>\n",
       "      <th>Savings</th>\n",
       "      <th>SC Index</th>\n",
       "    </tr>\n",
       "  </thead>\n",
       "  <tbody>\n",
       "    <tr>\n",
       "      <th>0</th>\n",
       "      <td>1</td>\n",
       "      <td>4</td>\n",
       "      <td>90</td>\n",
       "      <td>19</td>\n",
       "      <td>83</td>\n",
       "      <td>289</td>\n",
       "      <td>3</td>\n",
       "    </tr>\n",
       "    <tr>\n",
       "      <th>1</th>\n",
       "      <td>2</td>\n",
       "      <td>2</td>\n",
       "      <td>95</td>\n",
       "      <td>35</td>\n",
       "      <td>134</td>\n",
       "      <td>1130</td>\n",
       "      <td>3</td>\n",
       "    </tr>\n",
       "    <tr>\n",
       "      <th>2</th>\n",
       "      <td>3</td>\n",
       "      <td>2</td>\n",
       "      <td>99</td>\n",
       "      <td>46</td>\n",
       "      <td>110</td>\n",
       "      <td>583</td>\n",
       "      <td>5</td>\n",
       "    </tr>\n",
       "    <tr>\n",
       "      <th>3</th>\n",
       "      <td>4</td>\n",
       "      <td>3</td>\n",
       "      <td>130</td>\n",
       "      <td>24</td>\n",
       "      <td>69</td>\n",
       "      <td>1049</td>\n",
       "      <td>7</td>\n",
       "    </tr>\n",
       "    <tr>\n",
       "      <th>4</th>\n",
       "      <td>5</td>\n",
       "      <td>4</td>\n",
       "      <td>126</td>\n",
       "      <td>42</td>\n",
       "      <td>153</td>\n",
       "      <td>612</td>\n",
       "      <td>7</td>\n",
       "    </tr>\n",
       "  </tbody>\n",
       "</table>\n",
       "</div>"
      ],
      "text/plain": [
       "   Couple  Educ Level  Salary  Cars  Home  Savings  SC Index\n",
       "0       1           4      90    19    83      289         3\n",
       "1       2           2      95    35   134     1130         3\n",
       "2       3           2      99    46   110      583         5\n",
       "3       4           3     130    24    69     1049         7\n",
       "4       5           4     126    42   153      612         7"
      ]
     },
     "execution_count": 4,
     "metadata": {},
     "output_type": "execute_result"
    }
   ],
   "source": [
    "df.head()"
   ]
  },
  {
   "cell_type": "code",
   "execution_count": 5,
   "metadata": {},
   "outputs": [
    {
     "data": {
      "text/html": [
       "<div>\n",
       "<style scoped>\n",
       "    .dataframe tbody tr th:only-of-type {\n",
       "        vertical-align: middle;\n",
       "    }\n",
       "\n",
       "    .dataframe tbody tr th {\n",
       "        vertical-align: top;\n",
       "    }\n",
       "\n",
       "    .dataframe thead th {\n",
       "        text-align: right;\n",
       "    }\n",
       "</style>\n",
       "<table border=\"1\" class=\"dataframe\">\n",
       "  <thead>\n",
       "    <tr style=\"text-align: right;\">\n",
       "      <th></th>\n",
       "      <th>Couple</th>\n",
       "      <th>Educ Level</th>\n",
       "      <th>Salary</th>\n",
       "      <th>Cars</th>\n",
       "      <th>Home</th>\n",
       "      <th>Savings</th>\n",
       "      <th>SC Index</th>\n",
       "    </tr>\n",
       "  </thead>\n",
       "  <tbody>\n",
       "    <tr>\n",
       "      <th>269</th>\n",
       "      <td>270</td>\n",
       "      <td>2</td>\n",
       "      <td>103</td>\n",
       "      <td>53</td>\n",
       "      <td>206</td>\n",
       "      <td>288</td>\n",
       "      <td>9</td>\n",
       "    </tr>\n",
       "    <tr>\n",
       "      <th>270</th>\n",
       "      <td>271</td>\n",
       "      <td>4</td>\n",
       "      <td>119</td>\n",
       "      <td>36</td>\n",
       "      <td>168</td>\n",
       "      <td>758</td>\n",
       "      <td>4</td>\n",
       "    </tr>\n",
       "    <tr>\n",
       "      <th>271</th>\n",
       "      <td>272</td>\n",
       "      <td>4</td>\n",
       "      <td>123</td>\n",
       "      <td>36</td>\n",
       "      <td>153</td>\n",
       "      <td>426</td>\n",
       "      <td>5</td>\n",
       "    </tr>\n",
       "    <tr>\n",
       "      <th>272</th>\n",
       "      <td>273</td>\n",
       "      <td>4</td>\n",
       "      <td>106</td>\n",
       "      <td>41</td>\n",
       "      <td>191</td>\n",
       "      <td>5</td>\n",
       "      <td>6</td>\n",
       "    </tr>\n",
       "    <tr>\n",
       "      <th>273</th>\n",
       "      <td>274</td>\n",
       "      <td>2</td>\n",
       "      <td>59</td>\n",
       "      <td>23</td>\n",
       "      <td>50</td>\n",
       "      <td>1205</td>\n",
       "      <td>1</td>\n",
       "    </tr>\n",
       "  </tbody>\n",
       "</table>\n",
       "</div>"
      ],
      "text/plain": [
       "     Couple  Educ Level  Salary  Cars  Home  Savings  SC Index\n",
       "269     270           2     103    53   206      288         9\n",
       "270     271           4     119    36   168      758         4\n",
       "271     272           4     123    36   153      426         5\n",
       "272     273           4     106    41   191        5         6\n",
       "273     274           2      59    23    50     1205         1"
      ]
     },
     "execution_count": 5,
     "metadata": {},
     "output_type": "execute_result"
    }
   ],
   "source": [
    "df.tail()"
   ]
  },
  {
   "cell_type": "code",
   "execution_count": 6,
   "metadata": {},
   "outputs": [
    {
     "name": "stdout",
     "output_type": "stream",
     "text": [
      "(274, 7)\n"
     ]
    }
   ],
   "source": [
    "print(df.shape)"
   ]
  },
  {
   "cell_type": "code",
   "execution_count": 7,
   "metadata": {},
   "outputs": [
    {
     "name": "stdout",
     "output_type": "stream",
     "text": [
      "Index(['Couple', 'Educ Level', 'Salary', 'Cars', 'Home', 'Savings',\n",
      "       'SC Index'],\n",
      "      dtype='object')\n"
     ]
    }
   ],
   "source": [
    "print(df.columns)"
   ]
  },
  {
   "cell_type": "code",
   "execution_count": 8,
   "metadata": {},
   "outputs": [
    {
     "data": {
      "text/plain": [
       "3    89\n",
       "2    85\n",
       "4    80\n",
       "1    20\n",
       "Name: Educ Level, dtype: int64"
      ]
     },
     "execution_count": 8,
     "metadata": {},
     "output_type": "execute_result"
    }
   ],
   "source": [
    "df['Educ Level'].value_counts()"
   ]
  },
  {
   "cell_type": "code",
   "execution_count": 9,
   "metadata": {},
   "outputs": [
    {
     "data": {
      "text/plain": [
       "6     38\n",
       "4     37\n",
       "2     35\n",
       "1     35\n",
       "5     32\n",
       "3     28\n",
       "8     21\n",
       "7     21\n",
       "10    14\n",
       "9     13\n",
       "Name: SC Index, dtype: int64"
      ]
     },
     "execution_count": 9,
     "metadata": {},
     "output_type": "execute_result"
    }
   ],
   "source": [
    "df['SC Index'].value_counts()"
   ]
  },
  {
   "cell_type": "code",
   "execution_count": 10,
   "metadata": {},
   "outputs": [
    {
     "name": "stdout",
     "output_type": "stream",
     "text": [
      "<class 'pandas.core.frame.DataFrame'>\n",
      "RangeIndex: 274 entries, 0 to 273\n",
      "Data columns (total 7 columns):\n",
      "Couple        274 non-null int64\n",
      "Educ Level    274 non-null int64\n",
      "Salary        274 non-null int64\n",
      "Cars          274 non-null int64\n",
      "Home          274 non-null int64\n",
      "Savings       274 non-null int64\n",
      "SC Index      274 non-null int64\n",
      "dtypes: int64(7)\n",
      "memory usage: 15.1 KB\n",
      "None\n"
     ]
    }
   ],
   "source": [
    "print(df.info())"
   ]
  },
  {
   "cell_type": "code",
   "execution_count": 11,
   "metadata": {},
   "outputs": [
    {
     "data": {
      "text/html": [
       "<div>\n",
       "<style scoped>\n",
       "    .dataframe tbody tr th:only-of-type {\n",
       "        vertical-align: middle;\n",
       "    }\n",
       "\n",
       "    .dataframe tbody tr th {\n",
       "        vertical-align: top;\n",
       "    }\n",
       "\n",
       "    .dataframe thead th {\n",
       "        text-align: right;\n",
       "    }\n",
       "</style>\n",
       "<table border=\"1\" class=\"dataframe\">\n",
       "  <thead>\n",
       "    <tr style=\"text-align: right;\">\n",
       "      <th></th>\n",
       "      <th>Educ Level</th>\n",
       "      <th>Salary</th>\n",
       "      <th>Cars</th>\n",
       "      <th>Home</th>\n",
       "      <th>Savings</th>\n",
       "    </tr>\n",
       "  </thead>\n",
       "  <tbody>\n",
       "    <tr>\n",
       "      <th>count</th>\n",
       "      <td>274.000000</td>\n",
       "      <td>274.000000</td>\n",
       "      <td>274.000000</td>\n",
       "      <td>274.000000</td>\n",
       "      <td>274.000000</td>\n",
       "    </tr>\n",
       "    <tr>\n",
       "      <th>mean</th>\n",
       "      <td>2.835766</td>\n",
       "      <td>98.120438</td>\n",
       "      <td>40.193431</td>\n",
       "      <td>146.160584</td>\n",
       "      <td>528.970803</td>\n",
       "    </tr>\n",
       "    <tr>\n",
       "      <th>std</th>\n",
       "      <td>0.932933</td>\n",
       "      <td>24.948373</td>\n",
       "      <td>10.254410</td>\n",
       "      <td>58.255624</td>\n",
       "      <td>298.092137</td>\n",
       "    </tr>\n",
       "    <tr>\n",
       "      <th>min</th>\n",
       "      <td>1.000000</td>\n",
       "      <td>25.000000</td>\n",
       "      <td>9.000000</td>\n",
       "      <td>50.000000</td>\n",
       "      <td>5.000000</td>\n",
       "    </tr>\n",
       "    <tr>\n",
       "      <th>25%</th>\n",
       "      <td>2.000000</td>\n",
       "      <td>82.250000</td>\n",
       "      <td>34.000000</td>\n",
       "      <td>104.000000</td>\n",
       "      <td>344.250000</td>\n",
       "    </tr>\n",
       "    <tr>\n",
       "      <th>50%</th>\n",
       "      <td>3.000000</td>\n",
       "      <td>99.000000</td>\n",
       "      <td>40.000000</td>\n",
       "      <td>144.000000</td>\n",
       "      <td>531.500000</td>\n",
       "    </tr>\n",
       "    <tr>\n",
       "      <th>75%</th>\n",
       "      <td>4.000000</td>\n",
       "      <td>115.000000</td>\n",
       "      <td>47.000000</td>\n",
       "      <td>185.750000</td>\n",
       "      <td>690.750000</td>\n",
       "    </tr>\n",
       "    <tr>\n",
       "      <th>max</th>\n",
       "      <td>4.000000</td>\n",
       "      <td>167.000000</td>\n",
       "      <td>71.000000</td>\n",
       "      <td>341.000000</td>\n",
       "      <td>1476.000000</td>\n",
       "    </tr>\n",
       "  </tbody>\n",
       "</table>\n",
       "</div>"
      ],
      "text/plain": [
       "       Educ Level      Salary        Cars        Home      Savings\n",
       "count  274.000000  274.000000  274.000000  274.000000   274.000000\n",
       "mean     2.835766   98.120438   40.193431  146.160584   528.970803\n",
       "std      0.932933   24.948373   10.254410   58.255624   298.092137\n",
       "min      1.000000   25.000000    9.000000   50.000000     5.000000\n",
       "25%      2.000000   82.250000   34.000000  104.000000   344.250000\n",
       "50%      3.000000   99.000000   40.000000  144.000000   531.500000\n",
       "75%      4.000000  115.000000   47.000000  185.750000   690.750000\n",
       "max      4.000000  167.000000   71.000000  341.000000  1476.000000"
      ]
     },
     "execution_count": 11,
     "metadata": {},
     "output_type": "execute_result"
    }
   ],
   "source": [
    "df.iloc[:,1:6].describe()"
   ]
  },
  {
   "cell_type": "code",
   "execution_count": 12,
   "metadata": {},
   "outputs": [
    {
     "data": {
      "text/html": [
       "<div>\n",
       "<style scoped>\n",
       "    .dataframe tbody tr th:only-of-type {\n",
       "        vertical-align: middle;\n",
       "    }\n",
       "\n",
       "    .dataframe tbody tr th {\n",
       "        vertical-align: top;\n",
       "    }\n",
       "\n",
       "    .dataframe thead th {\n",
       "        text-align: right;\n",
       "    }\n",
       "</style>\n",
       "<table border=\"1\" class=\"dataframe\">\n",
       "  <thead>\n",
       "    <tr style=\"text-align: right;\">\n",
       "      <th></th>\n",
       "      <th>count</th>\n",
       "      <th>mean</th>\n",
       "      <th>std</th>\n",
       "      <th>min</th>\n",
       "      <th>25%</th>\n",
       "      <th>50%</th>\n",
       "      <th>75%</th>\n",
       "      <th>max</th>\n",
       "    </tr>\n",
       "  </thead>\n",
       "  <tbody>\n",
       "    <tr>\n",
       "      <th>Educ Level</th>\n",
       "      <td>274.0</td>\n",
       "      <td>2.835766</td>\n",
       "      <td>0.932933</td>\n",
       "      <td>1.0</td>\n",
       "      <td>2.00</td>\n",
       "      <td>3.0</td>\n",
       "      <td>4.00</td>\n",
       "      <td>4.0</td>\n",
       "    </tr>\n",
       "    <tr>\n",
       "      <th>Salary</th>\n",
       "      <td>274.0</td>\n",
       "      <td>98.120438</td>\n",
       "      <td>24.948373</td>\n",
       "      <td>25.0</td>\n",
       "      <td>82.25</td>\n",
       "      <td>99.0</td>\n",
       "      <td>115.00</td>\n",
       "      <td>167.0</td>\n",
       "    </tr>\n",
       "    <tr>\n",
       "      <th>Cars</th>\n",
       "      <td>274.0</td>\n",
       "      <td>40.193431</td>\n",
       "      <td>10.254410</td>\n",
       "      <td>9.0</td>\n",
       "      <td>34.00</td>\n",
       "      <td>40.0</td>\n",
       "      <td>47.00</td>\n",
       "      <td>71.0</td>\n",
       "    </tr>\n",
       "    <tr>\n",
       "      <th>Home</th>\n",
       "      <td>274.0</td>\n",
       "      <td>146.160584</td>\n",
       "      <td>58.255624</td>\n",
       "      <td>50.0</td>\n",
       "      <td>104.00</td>\n",
       "      <td>144.0</td>\n",
       "      <td>185.75</td>\n",
       "      <td>341.0</td>\n",
       "    </tr>\n",
       "    <tr>\n",
       "      <th>Savings</th>\n",
       "      <td>274.0</td>\n",
       "      <td>528.970803</td>\n",
       "      <td>298.092137</td>\n",
       "      <td>5.0</td>\n",
       "      <td>344.25</td>\n",
       "      <td>531.5</td>\n",
       "      <td>690.75</td>\n",
       "      <td>1476.0</td>\n",
       "    </tr>\n",
       "  </tbody>\n",
       "</table>\n",
       "</div>"
      ],
      "text/plain": [
       "            count        mean         std   min     25%    50%     75%     max\n",
       "Educ Level  274.0    2.835766    0.932933   1.0    2.00    3.0    4.00     4.0\n",
       "Salary      274.0   98.120438   24.948373  25.0   82.25   99.0  115.00   167.0\n",
       "Cars        274.0   40.193431   10.254410   9.0   34.00   40.0   47.00    71.0\n",
       "Home        274.0  146.160584   58.255624  50.0  104.00  144.0  185.75   341.0\n",
       "Savings     274.0  528.970803  298.092137   5.0  344.25  531.5  690.75  1476.0"
      ]
     },
     "execution_count": 12,
     "metadata": {},
     "output_type": "execute_result"
    }
   ],
   "source": [
    "df.iloc[:,1:6].describe().T"
   ]
  },
  {
   "cell_type": "code",
   "execution_count": 13,
   "metadata": {},
   "outputs": [
    {
     "data": {
      "text/html": [
       "<div>\n",
       "<style scoped>\n",
       "    .dataframe tbody tr th:only-of-type {\n",
       "        vertical-align: middle;\n",
       "    }\n",
       "\n",
       "    .dataframe tbody tr th {\n",
       "        vertical-align: top;\n",
       "    }\n",
       "\n",
       "    .dataframe thead th {\n",
       "        text-align: right;\n",
       "    }\n",
       "</style>\n",
       "<table border=\"1\" class=\"dataframe\">\n",
       "  <thead>\n",
       "    <tr style=\"text-align: right;\">\n",
       "      <th></th>\n",
       "      <th>index</th>\n",
       "      <th>0</th>\n",
       "    </tr>\n",
       "  </thead>\n",
       "  <tbody>\n",
       "    <tr>\n",
       "      <th>0</th>\n",
       "      <td>Educ Level</td>\n",
       "      <td>2.835766</td>\n",
       "    </tr>\n",
       "    <tr>\n",
       "      <th>1</th>\n",
       "      <td>Salary</td>\n",
       "      <td>98.120438</td>\n",
       "    </tr>\n",
       "    <tr>\n",
       "      <th>2</th>\n",
       "      <td>Cars</td>\n",
       "      <td>40.193431</td>\n",
       "    </tr>\n",
       "    <tr>\n",
       "      <th>3</th>\n",
       "      <td>Home</td>\n",
       "      <td>146.160584</td>\n",
       "    </tr>\n",
       "    <tr>\n",
       "      <th>4</th>\n",
       "      <td>Savings</td>\n",
       "      <td>528.970803</td>\n",
       "    </tr>\n",
       "  </tbody>\n",
       "</table>\n",
       "</div>"
      ],
      "text/plain": [
       "        index           0\n",
       "0  Educ Level    2.835766\n",
       "1      Salary   98.120438\n",
       "2        Cars   40.193431\n",
       "3        Home  146.160584\n",
       "4     Savings  528.970803"
      ]
     },
     "execution_count": 13,
     "metadata": {},
     "output_type": "execute_result"
    }
   ],
   "source": [
    "df.iloc[:,1:6].mean().reset_index()"
   ]
  },
  {
   "cell_type": "code",
   "execution_count": 14,
   "metadata": {},
   "outputs": [],
   "source": [
    "import scipy as sp"
   ]
  },
  {
   "cell_type": "code",
   "execution_count": 15,
   "metadata": {},
   "outputs": [],
   "source": [
    "from scipy.stats import gmean"
   ]
  },
  {
   "cell_type": "code",
   "execution_count": 16,
   "metadata": {},
   "outputs": [
    {
     "data": {
      "text/html": [
       "<div>\n",
       "<style scoped>\n",
       "    .dataframe tbody tr th:only-of-type {\n",
       "        vertical-align: middle;\n",
       "    }\n",
       "\n",
       "    .dataframe tbody tr th {\n",
       "        vertical-align: top;\n",
       "    }\n",
       "\n",
       "    .dataframe thead th {\n",
       "        text-align: right;\n",
       "    }\n",
       "</style>\n",
       "<table border=\"1\" class=\"dataframe\">\n",
       "  <thead>\n",
       "    <tr style=\"text-align: right;\">\n",
       "      <th></th>\n",
       "      <th>index</th>\n",
       "      <th>0</th>\n",
       "    </tr>\n",
       "  </thead>\n",
       "  <tbody>\n",
       "    <tr>\n",
       "      <th>0</th>\n",
       "      <td>Educ Level</td>\n",
       "      <td>2.655501</td>\n",
       "    </tr>\n",
       "    <tr>\n",
       "      <th>1</th>\n",
       "      <td>Salary</td>\n",
       "      <td>94.548395</td>\n",
       "    </tr>\n",
       "    <tr>\n",
       "      <th>2</th>\n",
       "      <td>Cars</td>\n",
       "      <td>38.681783</td>\n",
       "    </tr>\n",
       "    <tr>\n",
       "      <th>3</th>\n",
       "      <td>Home</td>\n",
       "      <td>133.357075</td>\n",
       "    </tr>\n",
       "    <tr>\n",
       "      <th>4</th>\n",
       "      <td>Savings</td>\n",
       "      <td>358.677472</td>\n",
       "    </tr>\n",
       "  </tbody>\n",
       "</table>\n",
       "</div>"
      ],
      "text/plain": [
       "        index           0\n",
       "0  Educ Level    2.655501\n",
       "1      Salary   94.548395\n",
       "2        Cars   38.681783\n",
       "3        Home  133.357075\n",
       "4     Savings  358.677472"
      ]
     },
     "execution_count": 16,
     "metadata": {},
     "output_type": "execute_result"
    }
   ],
   "source": [
    "df.iloc[:,1:6].apply(gmean).reset_index()"
   ]
  },
  {
   "cell_type": "code",
   "execution_count": 17,
   "metadata": {},
   "outputs": [],
   "source": [
    "from scipy.stats import hmean"
   ]
  },
  {
   "cell_type": "code",
   "execution_count": 18,
   "metadata": {},
   "outputs": [
    {
     "data": {
      "text/html": [
       "<div>\n",
       "<style scoped>\n",
       "    .dataframe tbody tr th:only-of-type {\n",
       "        vertical-align: middle;\n",
       "    }\n",
       "\n",
       "    .dataframe tbody tr th {\n",
       "        vertical-align: top;\n",
       "    }\n",
       "\n",
       "    .dataframe thead th {\n",
       "        text-align: right;\n",
       "    }\n",
       "</style>\n",
       "<table border=\"1\" class=\"dataframe\">\n",
       "  <thead>\n",
       "    <tr style=\"text-align: right;\">\n",
       "      <th></th>\n",
       "      <th>index</th>\n",
       "      <th>0</th>\n",
       "    </tr>\n",
       "  </thead>\n",
       "  <tbody>\n",
       "    <tr>\n",
       "      <th>0</th>\n",
       "      <td>Educ Level</td>\n",
       "      <td>2.442793</td>\n",
       "    </tr>\n",
       "    <tr>\n",
       "      <th>1</th>\n",
       "      <td>Salary</td>\n",
       "      <td>90.267083</td>\n",
       "    </tr>\n",
       "    <tr>\n",
       "      <th>2</th>\n",
       "      <td>Cars</td>\n",
       "      <td>36.813809</td>\n",
       "    </tr>\n",
       "    <tr>\n",
       "      <th>3</th>\n",
       "      <td>Home</td>\n",
       "      <td>119.435077</td>\n",
       "    </tr>\n",
       "    <tr>\n",
       "      <th>4</th>\n",
       "      <td>Savings</td>\n",
       "      <td>63.928052</td>\n",
       "    </tr>\n",
       "  </tbody>\n",
       "</table>\n",
       "</div>"
      ],
      "text/plain": [
       "        index           0\n",
       "0  Educ Level    2.442793\n",
       "1      Salary   90.267083\n",
       "2        Cars   36.813809\n",
       "3        Home  119.435077\n",
       "4     Savings   63.928052"
      ]
     },
     "execution_count": 18,
     "metadata": {},
     "output_type": "execute_result"
    }
   ],
   "source": [
    "df.iloc[:,1:6].apply(hmean).reset_index()"
   ]
  },
  {
   "cell_type": "code",
   "execution_count": 19,
   "metadata": {},
   "outputs": [
    {
     "data": {
      "text/html": [
       "<div>\n",
       "<style scoped>\n",
       "    .dataframe tbody tr th:only-of-type {\n",
       "        vertical-align: middle;\n",
       "    }\n",
       "\n",
       "    .dataframe tbody tr th {\n",
       "        vertical-align: top;\n",
       "    }\n",
       "\n",
       "    .dataframe thead th {\n",
       "        text-align: right;\n",
       "    }\n",
       "</style>\n",
       "<table border=\"1\" class=\"dataframe\">\n",
       "  <thead>\n",
       "    <tr style=\"text-align: right;\">\n",
       "      <th></th>\n",
       "      <th>index</th>\n",
       "      <th>0</th>\n",
       "    </tr>\n",
       "  </thead>\n",
       "  <tbody>\n",
       "    <tr>\n",
       "      <th>0</th>\n",
       "      <td>Educ Level</td>\n",
       "      <td>3.0</td>\n",
       "    </tr>\n",
       "    <tr>\n",
       "      <th>1</th>\n",
       "      <td>Salary</td>\n",
       "      <td>99.0</td>\n",
       "    </tr>\n",
       "    <tr>\n",
       "      <th>2</th>\n",
       "      <td>Cars</td>\n",
       "      <td>40.0</td>\n",
       "    </tr>\n",
       "    <tr>\n",
       "      <th>3</th>\n",
       "      <td>Home</td>\n",
       "      <td>144.0</td>\n",
       "    </tr>\n",
       "    <tr>\n",
       "      <th>4</th>\n",
       "      <td>Savings</td>\n",
       "      <td>531.5</td>\n",
       "    </tr>\n",
       "  </tbody>\n",
       "</table>\n",
       "</div>"
      ],
      "text/plain": [
       "        index      0\n",
       "0  Educ Level    3.0\n",
       "1      Salary   99.0\n",
       "2        Cars   40.0\n",
       "3        Home  144.0\n",
       "4     Savings  531.5"
      ]
     },
     "execution_count": 19,
     "metadata": {},
     "output_type": "execute_result"
    }
   ],
   "source": [
    "df.iloc[:,1:6].median().reset_index()"
   ]
  },
  {
   "cell_type": "code",
   "execution_count": 20,
   "metadata": {},
   "outputs": [
    {
     "data": {
      "text/html": [
       "<div>\n",
       "<style scoped>\n",
       "    .dataframe tbody tr th:only-of-type {\n",
       "        vertical-align: middle;\n",
       "    }\n",
       "\n",
       "    .dataframe tbody tr th {\n",
       "        vertical-align: top;\n",
       "    }\n",
       "\n",
       "    .dataframe thead th {\n",
       "        text-align: right;\n",
       "    }\n",
       "</style>\n",
       "<table border=\"1\" class=\"dataframe\">\n",
       "  <thead>\n",
       "    <tr style=\"text-align: right;\">\n",
       "      <th></th>\n",
       "      <th>index</th>\n",
       "      <th>0</th>\n",
       "    </tr>\n",
       "  </thead>\n",
       "  <tbody>\n",
       "    <tr>\n",
       "      <th>0</th>\n",
       "      <td>Educ Level</td>\n",
       "      <td>0.932933</td>\n",
       "    </tr>\n",
       "    <tr>\n",
       "      <th>1</th>\n",
       "      <td>Salary</td>\n",
       "      <td>24.948373</td>\n",
       "    </tr>\n",
       "    <tr>\n",
       "      <th>2</th>\n",
       "      <td>Cars</td>\n",
       "      <td>10.254410</td>\n",
       "    </tr>\n",
       "    <tr>\n",
       "      <th>3</th>\n",
       "      <td>Home</td>\n",
       "      <td>58.255624</td>\n",
       "    </tr>\n",
       "    <tr>\n",
       "      <th>4</th>\n",
       "      <td>Savings</td>\n",
       "      <td>298.092137</td>\n",
       "    </tr>\n",
       "  </tbody>\n",
       "</table>\n",
       "</div>"
      ],
      "text/plain": [
       "        index           0\n",
       "0  Educ Level    0.932933\n",
       "1      Salary   24.948373\n",
       "2        Cars   10.254410\n",
       "3        Home   58.255624\n",
       "4     Savings  298.092137"
      ]
     },
     "execution_count": 20,
     "metadata": {},
     "output_type": "execute_result"
    }
   ],
   "source": [
    "df.iloc[:,1:6].std().reset_index()"
   ]
  },
  {
   "cell_type": "code",
   "execution_count": 21,
   "metadata": {},
   "outputs": [
    {
     "data": {
      "text/html": [
       "<div>\n",
       "<style scoped>\n",
       "    .dataframe tbody tr th:only-of-type {\n",
       "        vertical-align: middle;\n",
       "    }\n",
       "\n",
       "    .dataframe tbody tr th {\n",
       "        vertical-align: top;\n",
       "    }\n",
       "\n",
       "    .dataframe thead th {\n",
       "        text-align: right;\n",
       "    }\n",
       "</style>\n",
       "<table border=\"1\" class=\"dataframe\">\n",
       "  <thead>\n",
       "    <tr style=\"text-align: right;\">\n",
       "      <th></th>\n",
       "      <th>index</th>\n",
       "      <th>Educ Level</th>\n",
       "      <th>Salary</th>\n",
       "      <th>Cars</th>\n",
       "      <th>Home</th>\n",
       "      <th>Savings</th>\n",
       "    </tr>\n",
       "  </thead>\n",
       "  <tbody>\n",
       "    <tr>\n",
       "      <th>0</th>\n",
       "      <td>0.25</td>\n",
       "      <td>2.0</td>\n",
       "      <td>82.25</td>\n",
       "      <td>34.0</td>\n",
       "      <td>104.00</td>\n",
       "      <td>344.25</td>\n",
       "    </tr>\n",
       "    <tr>\n",
       "      <th>1</th>\n",
       "      <td>0.50</td>\n",
       "      <td>3.0</td>\n",
       "      <td>99.00</td>\n",
       "      <td>40.0</td>\n",
       "      <td>144.00</td>\n",
       "      <td>531.50</td>\n",
       "    </tr>\n",
       "    <tr>\n",
       "      <th>2</th>\n",
       "      <td>0.75</td>\n",
       "      <td>4.0</td>\n",
       "      <td>115.00</td>\n",
       "      <td>47.0</td>\n",
       "      <td>185.75</td>\n",
       "      <td>690.75</td>\n",
       "    </tr>\n",
       "  </tbody>\n",
       "</table>\n",
       "</div>"
      ],
      "text/plain": [
       "   index  Educ Level  Salary  Cars    Home  Savings\n",
       "0   0.25         2.0   82.25  34.0  104.00   344.25\n",
       "1   0.50         3.0   99.00  40.0  144.00   531.50\n",
       "2   0.75         4.0  115.00  47.0  185.75   690.75"
      ]
     },
     "execution_count": 21,
     "metadata": {},
     "output_type": "execute_result"
    }
   ],
   "source": [
    "df.iloc[:,1:6].quantile([.25,.5,.75]).reset_index()"
   ]
  },
  {
   "cell_type": "code",
   "execution_count": 22,
   "metadata": {},
   "outputs": [
    {
     "data": {
      "text/html": [
       "<div>\n",
       "<style scoped>\n",
       "    .dataframe tbody tr th:only-of-type {\n",
       "        vertical-align: middle;\n",
       "    }\n",
       "\n",
       "    .dataframe tbody tr th {\n",
       "        vertical-align: top;\n",
       "    }\n",
       "\n",
       "    .dataframe thead th {\n",
       "        text-align: right;\n",
       "    }\n",
       "</style>\n",
       "<table border=\"1\" class=\"dataframe\">\n",
       "  <thead>\n",
       "    <tr style=\"text-align: right;\">\n",
       "      <th></th>\n",
       "      <th>index</th>\n",
       "      <th>0</th>\n",
       "    </tr>\n",
       "  </thead>\n",
       "  <tbody>\n",
       "    <tr>\n",
       "      <th>0</th>\n",
       "      <td>Educ Level</td>\n",
       "      <td>0.870364</td>\n",
       "    </tr>\n",
       "    <tr>\n",
       "      <th>1</th>\n",
       "      <td>Salary</td>\n",
       "      <td>622.421339</td>\n",
       "    </tr>\n",
       "    <tr>\n",
       "      <th>2</th>\n",
       "      <td>Cars</td>\n",
       "      <td>105.152924</td>\n",
       "    </tr>\n",
       "    <tr>\n",
       "      <th>3</th>\n",
       "      <td>Home</td>\n",
       "      <td>3393.717708</td>\n",
       "    </tr>\n",
       "    <tr>\n",
       "      <th>4</th>\n",
       "      <td>Savings</td>\n",
       "      <td>88858.922221</td>\n",
       "    </tr>\n",
       "  </tbody>\n",
       "</table>\n",
       "</div>"
      ],
      "text/plain": [
       "        index             0\n",
       "0  Educ Level      0.870364\n",
       "1      Salary    622.421339\n",
       "2        Cars    105.152924\n",
       "3        Home   3393.717708\n",
       "4     Savings  88858.922221"
      ]
     },
     "execution_count": 22,
     "metadata": {},
     "output_type": "execute_result"
    }
   ],
   "source": [
    "df.iloc[:,1:6].var().reset_index()"
   ]
  },
  {
   "cell_type": "code",
   "execution_count": 23,
   "metadata": {},
   "outputs": [],
   "source": [
    "import seaborn as sns"
   ]
  },
  {
   "cell_type": "code",
   "execution_count": 24,
   "metadata": {},
   "outputs": [
    {
     "data": {
      "image/png": "[encoded data removed]",
      "text/plain": [
       "<Figure size 432x288 with 1 Axes>"
      ]
     },
     "metadata": {
      "needs_background": "light"
     },
     "output_type": "display_data"
    }
   ],
   "source": [
    "bplot = sns.boxplot(data =df, order=['Salary', 'Cars', 'Home', 'Savings'], width =0.5)"
   ]
  },
  {
   "cell_type": "code",
   "execution_count": 25,
   "metadata": {},
   "outputs": [
    {
     "data": {
      "image/png": "[encoded data removed]",
      "text/plain": [
       "<Figure size 432x288 with 1 Axes>"
      ]
     },
     "metadata": {
      "needs_background": "light"
     },
     "output_type": "display_data"
    }
   ],
   "source": [
    "vioplot=sns.violinplot(data=df,order=['Salary', 'Cars', 'Home', 'Savings'])"
   ]
  },
  {
   "cell_type": "code",
   "execution_count": 26,
   "metadata": {},
   "outputs": [
    {
     "data": {
      "image/png": "[encoded data removed]",
      "text/plain": [
       "<Figure size 432x288 with 1 Axes>"
      ]
     },
     "metadata": {
      "needs_background": "light"
     },
     "output_type": "display_data"
    }
   ],
   "source": [
    "brplot = sns.barplot(data =df, order=['Salary', 'Cars', 'Home', 'Savings'], ci=\"sd\", capsize=.2)"
   ]
  },
  {
   "cell_type": "code",
   "execution_count": 27,
   "metadata": {},
   "outputs": [],
   "source": [
    "import ipystata"
   ]
  },
  {
   "cell_type": "code",
   "execution_count": 28,
   "metadata": {},
   "outputs": [
    {
     "name": "stdout",
     "output_type": "stream",
     "text": [
      "\n",
      "version 14.1\n",
      "\n"
     ]
    }
   ],
   "source": [
    "%%stata\n",
    "*print out which version of stata was used\n",
    "version "
   ]
  },
  {
   "cell_type": "code",
   "execution_count": 29,
   "metadata": {},
   "outputs": [],
   "source": [
    "%%stata\n",
    "*Reset stata memory\n",
    "clear all"
   ]
  },
  {
   "cell_type": "code",
   "execution_count": 30,
   "metadata": {},
   "outputs": [],
   "source": [
    "%%stata\n",
    "*clear macros too\n",
    "macro drop _all"
   ]
  },
  {
   "cell_type": "code",
   "execution_count": 31,
   "metadata": {},
   "outputs": [],
   "source": [
    "%%stata\n",
    "*set the default ouput linesize to 80 columns\n",
    "set linesize 80"
   ]
  },
  {
   "cell_type": "code",
   "execution_count": 32,
   "metadata": {},
   "outputs": [
    {
     "name": "stdout",
     "output_type": "stream",
     "text": [
      "C:\\Users\\ME\\Desktop\\Stattuts\\rawdata\n",
      "\n"
     ]
    }
   ],
   "source": [
    "%%stata\n",
    "cd \"C:\\Users\\ME\\Desktop\\Stattuts\\rawdata\""
   ]
  },
  {
   "cell_type": "code",
   "execution_count": 33,
   "metadata": {},
   "outputs": [
    {
     "name": "stdout",
     "output_type": "stream",
     "text": [
      "  <dir>   7/07/19 11:18  .                 \n",
      "  <dir>   7/07/19 11:18  ..                \n",
      "  22.5k   7/06/19 20:02  millionairedataset.xlsx\n",
      "   0.2k   7/07/19 11:18  ~$millionairedataset.xlsx\n",
      "\n"
     ]
    }
   ],
   "source": [
    "%%stata\n",
    "dir"
   ]
  },
  {
   "cell_type": "code",
   "execution_count": 34,
   "metadata": {},
   "outputs": [],
   "source": [
    "%%stata\n",
    "import excel \"C:\\Users\\ME\\Desktop\\Stattuts\\rawdata\\millionairedataset.xlsx\", firstrow clear"
   ]
  },
  {
   "cell_type": "code",
   "execution_count": 35,
   "metadata": {},
   "outputs": [
    {
     "name": "stdout",
     "output_type": "stream",
     "text": [
      "\n",
      "Contains data\n",
      "  obs:           274                          \n",
      " vars:             7                          \n",
      " size:         3,014                          \n",
      "--------------------------------------------------------------------------------\n",
      "              storage   display    value\n",
      "variable name   type    format     label      variable label\n",
      "--------------------------------------------------------------------------------\n",
      "Couple          int     %10.0g                Couple\n",
      "EducLevel       byte    %10.0g                Educ Level\n",
      "Salary          int     %10.0g                Salary\n",
      "Cars            byte    %10.0g                Cars\n",
      "Home            int     %10.0g                Home\n",
      "Savings         int     %10.0g                Savings\n",
      "SCIndex         byte    %10.0g                SC Index\n",
      "--------------------------------------------------------------------------------\n",
      "Sorted by: \n",
      "     Note: Dataset has changed since last saved.\n",
      "\n"
     ]
    }
   ],
   "source": [
    "%%stata\n",
    "describe"
   ]
  },
  {
   "cell_type": "code",
   "execution_count": 36,
   "metadata": {},
   "outputs": [
    {
     "name": "stdout",
     "output_type": "stream",
     "text": [
      "  274\n",
      "\n"
     ]
    }
   ],
   "source": [
    "%%stata\n",
    "count if Couple"
   ]
  },
  {
   "cell_type": "code",
   "execution_count": 37,
   "metadata": {},
   "outputs": [
    {
     "name": "stdout",
     "output_type": "stream",
     "text": [
      "\n",
      "    Variable |        Obs        Mean    Std. Dev.       Min        Max\n",
      "-------------+---------------------------------------------------------\n",
      "   EducLevel |        274    2.835766    .9329332          1          4\n",
      "      Salary |        274    98.12044    24.94837         25        167\n",
      "        Cars |        274    40.19343    10.25441          9         71\n",
      "        Home |        274    146.1606    58.25562         50        341\n",
      "     Savings |        274    528.9708    298.0921          5       1476\n",
      "\n"
     ]
    }
   ],
   "source": [
    "%%stata\n",
    "summarize EducLevel Salary Cars Home Savings"
   ]
  },
  {
   "cell_type": "code",
   "execution_count": 38,
   "metadata": {},
   "outputs": [
    {
     "name": "stdout",
     "output_type": "stream",
     "text": [
      "\n",
      "                         Educ Level\n",
      "-------------------------------------------------------------\n",
      "      Percentiles      Smallest\n",
      " 1%            1              1\n",
      " 5%            1              1\n",
      "10%            2              1       Obs                 274\n",
      "25%            2              1       Sum of Wgt.         274\n",
      "\n",
      "50%            3                      Mean           2.835766\n",
      "                        Largest       Std. Dev.      .9329332\n",
      "75%            4              4\n",
      "90%            4              4       Variance       .8703644\n",
      "95%            4              4       Skewness      -.2111271\n",
      "99%            4              4       Kurtosis       2.017246\n",
      "\n",
      "                           Salary\n",
      "-------------------------------------------------------------\n",
      "      Percentiles      Smallest\n",
      " 1%           39             25\n",
      " 5%           57             26\n",
      "10%           64             39       Obs                 274\n",
      "25%           82             39       Sum of Wgt.         274\n",
      "\n",
      "50%           99                      Mean           98.12044\n",
      "                        Largest       Std. Dev.      24.94837\n",
      "75%          115            157\n",
      "90%          130            161       Variance       622.4213\n",
      "95%          138            161       Skewness       -.101656\n",
      "99%          161            167       Kurtosis       3.000687\n",
      "\n",
      "                            Cars\n",
      "-------------------------------------------------------------\n",
      "      Percentiles      Smallest\n",
      " 1%           16              9\n",
      " 5%           21             11\n",
      "10%           26             16       Obs                 274\n",
      "25%           34             18       Sum of Wgt.         274\n",
      "\n",
      "50%           40                      Mean           40.19343\n",
      "                        Largest       Std. Dev.      10.25441\n",
      "75%           47             61\n",
      "90%           53             61       Variance       105.1529\n",
      "95%           56             64       Skewness      -.2137924\n",
      "99%           61             71       Kurtosis       3.032801\n",
      "\n",
      "                            Home\n",
      "-------------------------------------------------------------\n",
      "      Percentiles      Smallest\n",
      " 1%           50             50\n",
      " 5%           50             50\n",
      "10%           65             50       Obs                 274\n",
      "25%          104             50       Sum of Wgt.         274\n",
      "\n",
      "50%          144                      Mean           146.1606\n",
      "                        Largest       Std. Dev.      58.25562\n",
      "75%          186            272\n",
      "90%          223            284       Variance       3393.718\n",
      "95%          246            296       Skewness       .2502964\n",
      "99%          284            341       Kurtosis       2.626769\n",
      "\n",
      "                           Savings\n",
      "-------------------------------------------------------------\n",
      "      Percentiles      Smallest\n",
      " 1%            5              5\n",
      " 5%            5              5\n",
      "10%           99              5       Obs                 274\n",
      "25%          344              5       Sum of Wgt.         274\n",
      "\n",
      "50%        531.5                      Mean           528.9708\n",
      "                        Largest       Std. Dev.      298.0921\n",
      "75%          691           1247\n",
      "90%          916           1255       Variance       88858.92\n",
      "95%         1108           1269       Skewness       .2973376\n",
      "99%         1255           1476       Kurtosis       3.017866\n",
      "\n"
     ]
    }
   ],
   "source": [
    "%%stata\n",
    "summarize EducLevel Salary Cars Home Savings, detail"
   ]
  },
  {
   "cell_type": "code",
   "execution_count": 39,
   "metadata": {},
   "outputs": [
    {
     "name": "stdout",
     "output_type": "stream",
     "text": [
      "\n",
      " Educ Level |      Freq.     Percent        Cum.\n",
      "------------+-----------------------------------\n",
      "          1 |         20        7.30        7.30\n",
      "          2 |         85       31.02       38.32\n",
      "          3 |         89       32.48       70.80\n",
      "          4 |         80       29.20      100.00\n",
      "------------+-----------------------------------\n",
      "      Total |        274      100.00\n",
      "\n"
     ]
    }
   ],
   "source": [
    "%%stata\n",
    "tab EducLevel"
   ]
  },
  {
   "cell_type": "code",
   "execution_count": 40,
   "metadata": {},
   "outputs": [
    {
     "name": "stdout",
     "output_type": "stream",
     "text": [
      "\n",
      "   SC Index |      Freq.     Percent        Cum.\n",
      "------------+-----------------------------------\n",
      "          1 |         35       12.77       12.77\n",
      "          2 |         35       12.77       25.55\n",
      "          3 |         28       10.22       35.77\n",
      "          4 |         37       13.50       49.27\n",
      "          5 |         32       11.68       60.95\n",
      "          6 |         38       13.87       74.82\n",
      "          7 |         21        7.66       82.48\n",
      "          8 |         21        7.66       90.15\n",
      "          9 |         13        4.74       94.89\n",
      "         10 |         14        5.11      100.00\n",
      "------------+-----------------------------------\n",
      "      Total |        274      100.00\n",
      "\n"
     ]
    }
   ],
   "source": [
    "%%stata\n",
    "tab SCIndex"
   ]
  },
  {
   "cell_type": "code",
   "execution_count": 41,
   "metadata": {},
   "outputs": [
    {
     "name": "stdout",
     "output_type": "stream",
     "text": [
      "\n",
      "    Variable |    Type             Obs        Mean       [95% Conf. Interval]\n",
      "-------------+---------------------------------------------------------------\n",
      "   EducLevel | Arithmetic          274    2.835766         2.72481   2.946723 \n",
      "             |  Geometric          274    2.655501        2.536375   2.780223 \n",
      "             |   Harmonic          274    2.442793        2.312777   2.588299 \n",
      "-------------+---------------------------------------------------------------\n",
      "      Salary | Arithmetic          274    98.12044        95.15325   101.0876 \n",
      "             |  Geometric          274    94.54839        91.37793   97.82887 \n",
      "             |   Harmonic          274    90.26708        86.54066   94.32887 \n",
      "-------------+---------------------------------------------------------------\n",
      "        Cars | Arithmetic          274    40.19343        38.97384   41.41302 \n",
      "             |  Geometric          274    38.68178        37.35369    40.0571 \n",
      "             |   Harmonic          274    36.81381        35.21358    38.5664 \n",
      "-------------+---------------------------------------------------------------\n",
      "        Home | Arithmetic          274    146.1606        139.2321   153.0891 \n",
      "             |  Geometric          274    133.3571        126.3847   140.7141 \n",
      "             |   Harmonic          274    119.4351        112.4624   127.3296 \n",
      "-------------+---------------------------------------------------------------\n",
      "     Savings | Arithmetic          274    528.9708        493.5178   564.4238 \n",
      "             |  Geometric          274    358.6775        307.5873   418.2537 \n",
      "             |   Harmonic          274    63.92805        46.65929   101.4898 \n",
      "-------------+---------------------------------------------------------------\n",
      "\n"
     ]
    }
   ],
   "source": [
    "%%stata\n",
    "means EducLevel Salary Cars Home Savings"
   ]
  },
  {
   "cell_type": "code",
   "execution_count": 42,
   "metadata": {},
   "outputs": [
    {
     "data": {
      "image/png": "[encoded data removed]",
      "text/plain": [
       "<IPython.core.display.Image object>"
      ]
     },
     "metadata": {
      "image/png": {
       "height": 400,
       "width": 500
      }
     },
     "output_type": "display_data"
    }
   ],
   "source": [
    "%%stata\n",
    "graph box EducLevel Salary Cars Home Savings"
   ]
  },
  {
   "cell_type": "code",
   "execution_count": 43,
   "metadata": {},
   "outputs": [
    {
     "data": {
      "image/png": "[encoded data removed]",
      "text/plain": [
       "<IPython.core.display.Image object>"
      ]
     },
     "metadata": {
      "image/png": {
       "height": 400,
       "width": 500
      }
     },
     "output_type": "display_data"
    }
   ],
   "source": [
    "%%stata\n",
    "vioplot EducLevel Salary Cars Home Savings"
   ]
  },
  {
   "cell_type": "code",
   "execution_count": null,
   "metadata": {},
   "outputs": [],
   "source": []
  }
 ],
 "metadata": {
  "kernelspec": {
   "display_name": "Python 3",
   "language": "python",
   "name": "python3"
  },
  "language_info": {
   "codemirror_mode": {
    "name": "ipython",
    "version": 3
   },
   "file_extension": ".py",
   "mimetype": "text/x-python",
   "name": "python",
   "nbconvert_exporter": "python",
   "pygments_lexer": "ipython3",
   "version": "3.7.3"
  }
 },
 "nbformat": 4,
 "nbformat_minor": 4
}
